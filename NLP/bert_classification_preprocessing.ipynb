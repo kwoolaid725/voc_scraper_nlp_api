{
 "cells": [
  {
   "cell_type": "code",
   "execution_count": null,
   "metadata": {
    "collapsed": true
   },
   "outputs": [],
   "source": [
    "\n",
    "df1 = pd.read_csv('bestbuy_reviews.csv')\n",
    "df2 = pd.read_csv('amazon_reviews.csv')\n",
    "\n",
    "df = pd.concat([df1, df2], axis=0)\n",
    "df.shape\n",
    "df.head()\n",
    "df.sort_values(by=['PRODUCT'], inplace=True)\n",
    "df.head()\n",
    "df['REVIEW'] = df['TITLE'] + '. ' + df['CONTENT']\n",
    "df['POST DATE'] = pd.to_datetime(df['POST DATE'])\n",
    "df = df.drop(columns=['TITLE', 'CONTENT'])\n",
    "df.insert(0, 'id', range(0, 0 + len(df)))\n",
    "df\n",
    "df[['REVIEW', 'RATING']].groupby('RATING').count()\n",
    "import random\n",
    "\n",
    "pos_neg = []\n",
    "for row in df['RATING']:\n",
    "    if row >= 4:\n",
    "        pos_neg.append('positive')\n",
    "    else:\n",
    "        pos_neg.append('negative')\n",
    "\n",
    "df['Pos/Neg'] = pos_neg\n",
    "\n",
    "df['split'] = np.where(df.RATING >= 4,\n",
    "                       (pd.Series(random.choices(['train', 'test', 'dev'], weights=[0.6, 0.2, 0.2], k=len(df)))), '')\n",
    "df['split'] = np.where(df.RATING < 4,\n",
    "                       (pd.Series(random.choices(['train', 'test', 'dev'], weights=[0.6, 0.2, 0.2], k=len(df)))),\n",
    "                       df.split)\n",
    "\n",
    "df[['REVIEW', 'split']].groupby('split').count()\n",
    "\n",
    "df_negative = df[df['Pos/Neg'] == 'negative']\n",
    "df_negative[['REVIEW', 'split']].groupby('split').count()\n",
    "df_positive = df[df['Pos/Neg'] == 'positive']\n",
    "df_positive[['REVIEW', 'split']].groupby('split').count()\n",
    "# Remove newline and tab tokens\n",
    "df.to_csv('Cordless Vacuum Reviews.csv', index=False, encoding='utf-8-sig')"
   ]
  }
 ],
 "metadata": {
  "kernelspec": {
   "display_name": "Python 3",
   "language": "python",
   "name": "python3"
  },
  "language_info": {
   "codemirror_mode": {
    "name": "ipython",
    "version": 2
   },
   "file_extension": ".py",
   "mimetype": "text/x-python",
   "name": "python",
   "nbconvert_exporter": "python",
   "pygments_lexer": "ipython2",
   "version": "2.7.6"
  }
 },
 "nbformat": 4,
 "nbformat_minor": 0
}
