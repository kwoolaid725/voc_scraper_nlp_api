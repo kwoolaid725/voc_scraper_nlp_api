{
 "cells": [
  {
   "cell_type": "code",
   "execution_count": 1,
   "metadata": {
    "pycharm": {
     "is_executing": true
    }
   },
   "outputs": [],
   "source": [
    "from pyspark.sql import SparkSession\n",
    "from pyspark.sql.functions import col, regexp_replace\n",
    "from pyspark.sql.functions import filter, col, first, round, concat, lit, to_date, when\n",
    "from pyspark.ml.feature import Tokenizer, StopWordsRemover, HashingTF, IDF\n",
    "import pandas as pd\n",
    "import numpy as np\n",
    "\n",
    "reviews_df = pd.read_excel('../RetailsReviews_2023-08-11.xlsx')\n",
    "\n",
    "spark = SparkSession.builder.appName('pyspark_test').getOrCreate()\n",
    "\n",
    "preprocessed_df = spark.createDataFrame(reviews_df)\n",
    "\n"
   ]
  },
  {
   "cell_type": "code",
   "execution_count": 2,
   "metadata": {},
   "outputs": [],
   "source": [
    "# Filtering out just to show an example of \"CONTENT\" with \"[This review was collected as part of a promotion.]\"\n",
    "preprocessed_df_hd = preprocessed_df.filter(\n",
    "    (col('RETAILER') == 'THE HOME DEPOT') &\n",
    "    (col('CONTENT').contains('This review was collected as part of a promotion'))\n",
    ")\n"
   ]
  },
  {
   "cell_type": "code",
   "execution_count": 3,
   "metadata": {},
   "outputs": [],
   "source": [
    "# Function to display df with limited text length when setting .show(truncate=False)\n",
    "def show_df_with_max_length(df, column_name, max_length=100):\n",
    "    df.withColumn(column_name, col(column_name).substr(1, max_length)).show(5, truncate=False)"
   ]
  },
  {
   "cell_type": "code",
   "execution_count": 4,
   "metadata": {
    "collapsed": false,
    "jupyter": {
     "outputs_hidden": false
    }
   },
   "outputs": [
    {
     "name": "stdout",
     "output_type": "stream",
     "text": [
      "+--------------+-------------+---------------------------------------+----------------------------------------------------+\n",
      "|RETAILER      |REVIEWER_NAME|TITLE                                  |CONTENT                                             |\n",
      "+--------------+-------------+---------------------------------------+----------------------------------------------------+\n",
      "|THE HOME DEPOT|Mo87         |Nice and handy Vacuum                  |[This review was collected as part of a promotion.] |\n",
      "|THE HOME DEPOT|Liz68        |On of the best an the market ...       |[This review was collected as part of a promotion.] |\n",
      "|THE HOME DEPOT|HeatherRN    |Love this Vac!                         |[This review was collected as part of a promotion.] |\n",
      "|THE HOME DEPOT|Jamieberg1451|It’s a good vacuum                     |[This review was collected as part of a promotion.] |\n",
      "|THE HOME DEPOT|Fayt413      |It works great, when its not plugged up|[This review was collected as part of a promotion.] |\n",
      "+--------------+-------------+---------------------------------------+----------------------------------------------------+\n",
      "only showing top 5 rows\n",
      "\n"
     ]
    }
   ],
   "source": [
    "# Display the 'CONTENT' column with limited text length by appying the function just created\n",
    "show_df_with_max_length(preprocessed_df_hd.select('RETAILER','REVIEWER_NAME','TITLE', 'CONTENT'), 'CONTENT', max_length=52)"
   ]
  },
  {
   "cell_type": "code",
   "execution_count": 5,
   "metadata": {
    "collapsed": false,
    "jupyter": {
     "outputs_hidden": false
    }
   },
   "outputs": [
    {
     "name": "stdout",
     "output_type": "stream",
     "text": [
      "+--------------+-------------+---------------------------------------+------------------------------------------------------+\n",
      "|RETAILER      |REVIEWER_NAME|TITLE                                  |CONTENT                                               |\n",
      "+--------------+-------------+---------------------------------------+------------------------------------------------------+\n",
      "|THE HOME DEPOT|Mo87         |Nice and handy Vacuum                  | I bought this vacuum 2 weeks ago. In summary:\\r\\n1. E|\n",
      "|THE HOME DEPOT|Liz68        |On of the best an the market ...       | I intended to buy this LG CORDZERO ,because I have   |\n",
      "|THE HOME DEPOT|HeatherRN    |Love this Vac!                         | I recently recieved this vacuum in the mail. It is   |\n",
      "|THE HOME DEPOT|Jamieberg1451|It’s a good vacuum                     | I wanted to love this. I’d been so excited for it t  |\n",
      "|THE HOME DEPOT|Fayt413      |It works great, when its not plugged up| It's easy to charge and add attachments. I don't li  |\n",
      "+--------------+-------------+---------------------------------------+------------------------------------------------------+\n",
      "only showing top 5 rows\n",
      "\n"
     ]
    }
   ],
   "source": [
    "''' 1 - Removing \"[This review was collected as part of a promotion.\"] from Home Depot reviews\n",
    "        Escaped the special characters in the regular expression pattern using backslashes,\n",
    "        Added the r prefix before the pattern to indicate a raw string literal'''\n",
    "\n",
    "preprocessed_df_hd = preprocessed_df_hd.withColumn('CONTENT', regexp_replace('CONTENT', r'\\[This review was collected as part of a promotion\\.\\]', ''))\n",
    "\n",
    "preprocessed_df_hd = preprocessed_df_hd.filter(\n",
    "    (col('RETAILER') == 'THE HOME DEPOT')\n",
    ")\n",
    "show_df_with_max_length(preprocessed_df_hd.select('RETAILER','REVIEWER_NAME','TITLE', 'CONTENT'), 'CONTENT', max_length=52)\n",
    "\n",
    "# Applying to the main df\n",
    "preprocessed_df = preprocessed_df.withColumn('CONTENT', regexp_replace('CONTENT', r'\\[This review was collected as part of a promotion\\.\\]', ''))"
   ]
  },
  {
   "cell_type": "code",
   "execution_count": 6,
   "metadata": {},
   "outputs": [
    {
     "data": {
      "text/plain": [
       "'Original count: 359'"
      ]
     },
     "metadata": {},
     "output_type": "display_data"
    },
    {
     "data": {
      "text/plain": [
       "'New count after dropping duplicates: 359'"
      ]
     },
     "metadata": {},
     "output_type": "display_data"
    },
    {
     "data": {
      "text/plain": [
       "'Number of dropped duplicates: 0'"
      ]
     },
     "metadata": {},
     "output_type": "display_data"
    }
   ],
   "source": [
    "# Just to show the number of dropped rows later\n",
    "original_count = preprocessed_df.count()\n",
    "\n",
    "# 2 - Dropping duplicate rows with the same 'REVIEWER_NAME', 'TITLE', 'CONTENT' values\n",
    "preprocessed_df = preprocessed_df.dropDuplicates(subset=['REVIEWER_NAME', 'TITLE', 'CONTENT'])\n",
    "\n",
    "new_count = preprocessed_df.count()\n",
    "dropped_count = original_count - new_count\n",
    "\n",
    "# Show the counts\n",
    "display(f\"Original count: {original_count}\")\n",
    "display(f\"New count after dropping duplicates: {new_count}\")\n",
    "display(f\"Number of dropped duplicates: {dropped_count}\")\n"
   ]
  },
  {
   "cell_type": "code",
   "execution_count": 7,
   "metadata": {},
   "outputs": [
    {
     "name": "stdout",
     "output_type": "stream",
     "text": [
      "+--------------+-----------+------+--------------------+---------------+--------------------+--------------------+--------------------+\n",
      "|      RETAILER|    PRODUCT|RATING|           POST_DATE|  REVIEWER_NAME|               TITLE|             CONTENT|              REVIEW|\n",
      "+--------------+-----------+------+--------------------+---------------+--------------------+--------------------+--------------------+\n",
      "|      BEST BUY|LG A939KBGS|     5|May 26, 2022 10:3...|          2leo2|Sweet, Light, Qui...|The LG vacuum is ...|Sweet, Light, Qui...|\n",
      "|      BEST BUY|LG A939KBGS|     5|Dec 16, 2022 12:4...|      88XOHOX88|          Love this!|Auto-empty leaves...|Love this! Auto-e...|\n",
      "|THE HOME DEPOT|LG A939KBGS|     4|         Apr 1, 2023|     AA23250706|     It really sucks| We’ve had this v...|It really sucks  ...|\n",
      "|THE HOME DEPOT|LG A939KBGS|     5|                 NaN|         AMANDA|                 NaN|                 NaN|             NaN NaN|\n",
      "|THE HOME DEPOT|LG A939KBGS|     5|                 NaN|         AUDREY|                 NaN|                 NaN|             NaN NaN|\n",
      "|      BEST BUY|LG A939KBGS|     5|Jun 18, 2023 4:37 PM|         AaKomo|Worth the High Cost!|We love our LG an...|Worth the High Co...|\n",
      "|      BEST BUY|LG A939KBGS|     4|Jan 23, 2023 11:0...|          Aaron|       Great product|Its great for wha...|Great product Its...|\n",
      "|THE HOME DEPOT|LG A939KBGS|     5|        Jan 11, 2023|     Aaron68174| The best All In One|Had it for a whil...|The best All In O...|\n",
      "|THE HOME DEPOT|LG A939KBGS|     5|        Sep 17, 2022|AceofSpades1996|10/10 Would Recom...| I have owned thi...|10/10 Would Recom...|\n",
      "|      BEST BUY|LG A939KBGS|     5|May 29, 2022 8:40 AM|        AcurNet|Sleek Powerful Li...|The LG - CordZero...|Sleek Powerful Li...|\n",
      "+--------------+-----------+------+--------------------+---------------+--------------------+--------------------+--------------------+\n",
      "only showing top 10 rows\n",
      "\n"
     ]
    }
   ],
   "source": [
    "# 3 - Combine title and content columns\n",
    "preprocessed_df = preprocessed_df.withColumn('REVIEW', concat(col('TITLE'), lit(' '), col('CONTENT')))\n",
    "preprocessed_df.show(10)"
   ]
  },
  {
   "cell_type": "code",
   "execution_count": 8,
   "metadata": {
    "collapsed": false,
    "jupyter": {
     "outputs_hidden": false
    }
   },
   "outputs": [
    {
     "name": "stdout",
     "output_type": "stream",
     "text": [
      "+--------------+-----------+------+--------------------+---------------+--------------------+--------------------+--------------------+\n",
      "|      RETAILER|    PRODUCT|RATING|           POST_DATE|  REVIEWER_NAME|               TITLE|             CONTENT|              REVIEW|\n",
      "+--------------+-----------+------+--------------------+---------------+--------------------+--------------------+--------------------+\n",
      "|      BEST BUY|LG A939KBGS|     5|May 26, 2022 10:3...|          2leo2|Sweet, Light, Qui...|The LG vacuum is ...|Sweet, Light, Qui...|\n",
      "|      BEST BUY|LG A939KBGS|     5|Dec 16, 2022 12:4...|      88XOHOX88|          Love this!|Auto-empty leaves...|Love this! Auto-e...|\n",
      "|THE HOME DEPOT|LG A939KBGS|     4|         Apr 1, 2023|     AA23250706|     It really sucks| We’ve had this v...|It really sucks  ...|\n",
      "|      BEST BUY|LG A939KBGS|     5|Jun 18, 2023 4:37 PM|         AaKomo|Worth the High Cost!|We love our LG an...|Worth the High Co...|\n",
      "|      BEST BUY|LG A939KBGS|     4|Jan 23, 2023 11:0...|          Aaron|       Great product|Its great for wha...|Great product Its...|\n",
      "|THE HOME DEPOT|LG A939KBGS|     5|        Jan 11, 2023|     Aaron68174| The best All In One|Had it for a whil...|The best All In O...|\n",
      "|THE HOME DEPOT|LG A939KBGS|     5|        Sep 17, 2022|AceofSpades1996|10/10 Would Recom...| I have owned thi...|10/10 Would Recom...|\n",
      "|      BEST BUY|LG A939KBGS|     5|May 29, 2022 8:40 AM|        AcurNet|Sleek Powerful Li...|The LG - CordZero...|Sleek Powerful Li...|\n",
      "|THE HOME DEPOT|LG A939KBGS|     5|        Jul 26, 2022|      Adele2301|         Best vacuum| I’ve had this va...|Best vacuum  I’ve...|\n",
      "|THE HOME DEPOT|LG A939KBGS|     5|        Nov 15, 2021|         Adolin|         Good vacuum| This thing is so...|Good vacuum  This...|\n",
      "+--------------+-----------+------+--------------------+---------------+--------------------+--------------------+--------------------+\n",
      "only showing top 10 rows\n",
      "\n"
     ]
    },
    {
     "data": {
      "text/plain": [
       "'Previous Row Count: 359'"
      ]
     },
     "metadata": {},
     "output_type": "display_data"
    },
    {
     "data": {
      "text/plain": [
       "'New Row Count: 353'"
      ]
     },
     "metadata": {},
     "output_type": "display_data"
    }
   ],
   "source": [
    "# 4 - Drop rows with empty 'REVIEW' column\n",
    "preprocessed_df = preprocessed_df.filter(col('REVIEW') != 'NaN NaN')\n",
    "preprocessed_df.show(10)\n",
    "\n",
    "display(f\"Previous Row Count: {new_count}\")\n",
    "new_count = preprocessed_df.count()\n",
    "display(f\"New Row Count: {new_count}\")"
   ]
  },
  {
   "cell_type": "code",
   "execution_count": 9,
   "metadata": {},
   "outputs": [
    {
     "name": "stdout",
     "output_type": "stream",
     "text": [
      "+--------------+--------------------+\n",
      "|      RETAILER|           POST_DATE|\n",
      "+--------------+--------------------+\n",
      "|        AMAZON|       July 13, 2023|\n",
      "|        AMAZON|        July 3, 2023|\n",
      "|      BEST BUY|May 27, 2022 9:09 PM|\n",
      "|        AMAZON|         May 8, 2022|\n",
      "|THE HOME DEPOT|         Jun 7, 2023|\n",
      "|      BEST BUY|May 25, 2022 10:0...|\n",
      "|      BEST BUY|Jan 23, 2023 11:0...|\n",
      "|THE HOME DEPOT|        Aug 31, 2022|\n",
      "|THE HOME DEPOT|         Sep 4, 2022|\n",
      "|        AMAZON|        June 3, 2023|\n",
      "|THE HOME DEPOT|        Nov 26, 2021|\n",
      "|THE HOME DEPOT|        Dec 18, 2022|\n",
      "|      BEST BUY|Jun 3, 2022 11:19 PM|\n",
      "|      BEST BUY|May 24, 2022 3:58 PM|\n",
      "|        AMAZON|        June 7, 2023|\n",
      "|        AMAZON|    October 22, 2022|\n",
      "|        AMAZON|       June 21, 2023|\n",
      "|THE HOME DEPOT|         Apr 8, 2022|\n",
      "|THE HOME DEPOT|        Jun 28, 2022|\n",
      "|      BEST BUY|Jul 15, 2022 10:1...|\n",
      "+--------------+--------------------+\n",
      "only showing top 20 rows\n",
      "\n"
     ]
    }
   ],
   "source": [
    "''' 5 - 'POST_DATE' column contains different formats from each retailer \n",
    "         Converting them to 'yyyy-MM-dd' format'''\n",
    "\n",
    "# Identify distinct date formats\n",
    "distinct_retailer_date = preprocessed_df.select('RETAILER', 'POST_DATE').distinct()\n",
    "distinct_retailer_date.show()"
   ]
  },
  {
   "cell_type": "code",
   "execution_count": 10,
   "metadata": {},
   "outputs": [
    {
     "name": "stdout",
     "output_type": "stream",
     "text": [
      "+--------------+-----------+------+----------+---------------+--------------------+--------------------+--------------------+\n",
      "|      RETAILER|    PRODUCT|RATING| POST_DATE|  REVIEWER_NAME|               TITLE|             CONTENT|              REVIEW|\n",
      "+--------------+-----------+------+----------+---------------+--------------------+--------------------+--------------------+\n",
      "|      BEST BUY|LG A939KBGS|     5|2022-05-26|          2leo2|Sweet, Light, Qui...|The LG vacuum is ...|Sweet, Light, Qui...|\n",
      "|      BEST BUY|LG A939KBGS|     5|2022-12-16|      88XOHOX88|          Love this!|Auto-empty leaves...|Love this! Auto-e...|\n",
      "|THE HOME DEPOT|LG A939KBGS|     4|2023-04-01|     AA23250706|     It really sucks| We’ve had this v...|It really sucks  ...|\n",
      "|      BEST BUY|LG A939KBGS|     5|2023-06-18|         AaKomo|Worth the High Cost!|We love our LG an...|Worth the High Co...|\n",
      "|      BEST BUY|LG A939KBGS|     4|2023-01-23|          Aaron|       Great product|Its great for wha...|Great product Its...|\n",
      "|THE HOME DEPOT|LG A939KBGS|     5|2023-01-11|     Aaron68174| The best All In One|Had it for a whil...|The best All In O...|\n",
      "|THE HOME DEPOT|LG A939KBGS|     5|2022-09-17|AceofSpades1996|10/10 Would Recom...| I have owned thi...|10/10 Would Recom...|\n",
      "|      BEST BUY|LG A939KBGS|     5|2022-05-29|        AcurNet|Sleek Powerful Li...|The LG - CordZero...|Sleek Powerful Li...|\n",
      "|THE HOME DEPOT|LG A939KBGS|     5|2022-07-26|      Adele2301|         Best vacuum| I’ve had this va...|Best vacuum  I’ve...|\n",
      "|THE HOME DEPOT|LG A939KBGS|     5|2021-11-15|         Adolin|         Good vacuum| This thing is so...|Good vacuum  This...|\n",
      "|      BEST BUY|LG A939KBGS|     5|2023-05-28|         AirPod|  LG cordless vacuum|Super lightweight...|LG cordless vacuu...|\n",
      "|THE HOME DEPOT|LG A939KBGS|     5|2023-05-31|       Aliciadh|                 Wow| Absolutely amazi...|Wow  Absolutely a...|\n",
      "|      BEST BUY|LG A939KBGS|     5|2022-06-19|     Allthetoys|Best vacuum we ha...|If you want all t...|Best vacuum we ha...|\n",
      "|      BEST BUY|LG A939KBGS|     1|2023-03-24|        AlvaroH| Don't work properly|I want to returne...|Don't work proper...|\n",
      "|THE HOME DEPOT|LG A939KBGS|     5|2023-01-12|           AmDi|          Love it!!!| I bought this ab...|Love it!!!  I bou...|\n",
      "|      BEST BUY|LG A939KBGS|     1|2023-05-14|        AmandaK|   Broke up with you|Came broken. The ...|Broke up with you...|\n",
      "|      BEST BUY|LG A939KBGS|     5|2022-04-29|        Amazing|     Amazing product|Machine really pa...|Amazing product M...|\n",
      "|        AMAZON|LG A939KBGS|     1|2023-03-07|Amazon Customer|LG Customer Servi...|Customer Service ...|LG Customer Servi...|\n",
      "|        AMAZON|LG A939KBGS|     4|2023-05-04|Amazon Customer|        No headlight|Love this vacuum!...|No headlight Love...|\n",
      "|        AMAZON|LG A939KBGS|     5|2023-01-31|Amazon Customer|This stick vacuum...|I love the fact t...|This stick vacuum...|\n",
      "+--------------+-----------+------+----------+---------------+--------------------+--------------------+--------------------+\n",
      "only showing top 20 rows\n",
      "\n"
     ]
    }
   ],
   "source": [
    "# POST_DATE formats\n",
    "# Amazon: MMM dd, yyyy \n",
    "# Best Buy: MMM dd, yyyy hh:mm a\n",
    "# The Home Depot: MM dd, yyyy\n",
    "\n",
    "from pyspark.sql.functions import to_date, when\n",
    "\n",
    "# Set the legacy time parser policy\n",
    "spark.conf.set(\"spark.sql.legacy.timeParserPolicy\", \"LEGACY\")\n",
    "\n",
    "# Assuming 'POST_DATE' is a string column containing date information\n",
    "preprocessed_df = preprocessed_df.withColumn(\n",
    "    \"POST_DATE\",\n",
    "    when(to_date('POST_DATE', 'MMM dd, yyyy hh:mm a').isNotNull(),\n",
    "         to_date('POST_DATE', 'MMM dd, yyyy hh:mm a'))\n",
    "    .when(to_date('POST_DATE', 'MMM dd, yyyy').isNotNull(),\n",
    "         to_date('POST_DATE', 'MMM dd, yyyy'))\n",
    "    .otherwise(None)  # If no format matches, set the column to None\n",
    ")\n",
    "\n",
    "# Show the DataFrame with the new date column\n",
    "preprocessed_df.show()"
   ]
  },
  {
   "cell_type": "code",
   "execution_count": null,
   "metadata": {},
   "outputs": [],
   "source": []
  }
 ],
 "metadata": {
  "kernelspec": {
   "display_name": "Python 3 (ipykernel)",
   "language": "python",
   "name": "python3"
  },
  "language_info": {
   "codemirror_mode": {
    "name": "ipython",
    "version": 3
   },
   "file_extension": ".py",
   "mimetype": "text/x-python",
   "name": "python",
   "nbconvert_exporter": "python",
   "pygments_lexer": "ipython3",
   "version": "3.11.4"
  }
 },
 "nbformat": 4,
 "nbformat_minor": 4
}
