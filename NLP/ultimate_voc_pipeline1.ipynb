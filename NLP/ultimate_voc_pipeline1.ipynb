{
 "cells": [
  {
   "cell_type": "code",
   "execution_count": 4,
   "metadata": {
    "collapsed": true,
    "jupyter": {
     "outputs_hidden": true
    },
    "ExecuteTime": {
     "end_time": "2023-08-12T22:00:57.921125Z",
     "start_time": "2023-08-12T22:00:56.276406Z"
    }
   },
   "outputs": [
    {
     "name": "stderr",
     "output_type": "stream",
     "text": [
      "[Stage 0:>                                                          (0 + 1) / 1]\r"
     ]
    },
    {
     "name": "stdout",
     "output_type": "stream",
     "text": [
      "+--------+-----------+------+-----------------+---------------+--------------------+--------------------+\n",
      "|RETAILER|    PRODUCT|RATING|        POST_DATE|  REVIEWER_NAME|               TITLE|             CONTENT|\n",
      "+--------+-----------+------+-----------------+---------------+--------------------+--------------------+\n",
      "|  AMAZON|LG A939KBGS|     5|    July 11, 2023|            JPW|   Makes life easier|This machine is f...|\n",
      "|  AMAZON|LG A939KBGS|     5|     May 26, 2023|    Mokarimakka|I really liked it...|I really liked it...|\n",
      "|  AMAZON|LG A939KBGS|     4|   April 27, 2023|David M Haubert|  Needs more suction|Very cool but cos...|\n",
      "|  AMAZON|LG A939KBGS|     4|      May 4, 2023|Amazon Customer|        No headlight|Love this vacuum!...|\n",
      "|  AMAZON|LG A939KBGS|     4|     May 22, 2023|   Shane Martin|            No Light|Great vacuum, ove...|\n",
      "|  AMAZON|LG A939KBGS|     5|    July 13, 2023|Torrance Trojan|Wife really likes it|This is our third...|\n",
      "|  AMAZON|LG A939KBGS|     4|  August 21, 2022|            Kim|           I like it|I’ll start by say...|\n",
      "|  AMAZON|LG A939KBGS|     3|December 17, 2022|     graywolf54|Great...but not w...|This vacuum is re...|\n",
      "|  AMAZON|LG A939KBGS|     5|    July 24, 2022|Terry J. Keaton|Expensive but wit...|We have gone thro...|\n",
      "|  AMAZON|LG A939KBGS|     4|   March 16, 2023|     Shoreguy70|Good concept just...|Battery life coul...|\n",
      "|  AMAZON|LG A939KBGS|     5|February 22, 2023|  parker geiger|            Awesome!|Love Love Love th...|\n",
      "|  AMAZON|LG A939KBGS|     2|November 13, 2022|           Soso|LG Vacuum warrant...|Let me TLDR this ...|\n",
      "|  AMAZON|LG A939KBGS|     3|   April 11, 2023|         monica|Características d...|Yo vengo de mucho...|\n",
      "|  AMAZON|LG A939KBGS|     5|     June 3, 2023|Holly VanDalsen|100 percent worth...|This vacuum excee...|\n",
      "|  AMAZON|LG A939KBGS|     1| October 16, 2022|           Jack|LG make some fine...|LG make some fine...|\n",
      "|  AMAZON|LG A939KBGS|     2|    July 17, 2023| sergio bianchi|La estación de li...|Desde el primer m...|\n",
      "|  AMAZON|LG A939KBGS|     5|   April 30, 2023|       Julez119|If loving a vac i...|It’s great so wor...|\n",
      "|  AMAZON|LG A939KBGS|     5|     May 31, 2023|kathy karavidas|Best stick vacuum...|I love the power ...|\n",
      "|  AMAZON|LG A939KBGS|     3|   March 24, 2023|Yesica Gonzalez|Beautiful Not Pra...|This vacuum was s...|\n",
      "|  AMAZON|LG A939KBGS|     1|February 25, 2023|   Jamie Sikora|DONT WASTE YOUR M...|If I could give t...|\n",
      "+--------+-----------+------+-----------------+---------------+--------------------+--------------------+\n",
      "only showing top 20 rows\n",
      "\n"
     ]
    },
    {
     "name": "stderr",
     "output_type": "stream",
     "text": [
      "                                                                                \r"
     ]
    }
   ],
   "source": []
  }
 ],
 "metadata": {
  "kernelspec": {
   "display_name": "Python 3 (ipykernel)",
   "language": "python",
   "name": "python3"
  },
  "language_info": {
   "codemirror_mode": {
    "name": "ipython",
    "version": 3
   },
   "file_extension": ".py",
   "mimetype": "text/x-python",
   "name": "python",
   "nbconvert_exporter": "python",
   "pygments_lexer": "ipython3",
   "version": "3.11.1"
  }
 },
 "nbformat": 4,
 "nbformat_minor": 4
}
